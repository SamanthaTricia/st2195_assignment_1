{
 "cells": [
  {
   "cell_type": "code",
   "execution_count": 2,
   "id": "e4c6a4fa",
   "metadata": {},
   "outputs": [],
   "source": [
    "#HI! This is Samantha"
   ]
  },
  {
   "cell_type": "code",
   "execution_count": 3,
   "id": "d2c51132",
   "metadata": {},
   "outputs": [],
   "source": [
    "##This is my first ST2195 assignment "
   ]
  },
  {
   "cell_type": "code",
   "execution_count": 4,
   "id": "52b8de55",
   "metadata": {},
   "outputs": [],
   "source": [
    "###I'm new to this so I hope this is good enough"
   ]
  },
  {
   "cell_type": "code",
   "execution_count": 5,
   "id": "305bcd5c",
   "metadata": {},
   "outputs": [
    {
     "name": "stdout",
     "output_type": "stream",
     "text": [
      "1\n",
      "2\n",
      "3\n",
      "4\n",
      "5\n",
      "6\n",
      "7\n",
      "8\n",
      "9\n",
      "10\n"
     ]
    }
   ],
   "source": [
    "for i in range(1, 11):\n",
    "    print(i)"
   ]
  },
  {
   "cell_type": "code",
   "execution_count": null,
   "id": "da552dc2",
   "metadata": {},
   "outputs": [],
   "source": []
  }
 ],
 "metadata": {
  "kernelspec": {
   "display_name": "Python 3",
   "language": "python",
   "name": "python3"
  },
  "language_info": {
   "codemirror_mode": {
    "name": "ipython",
    "version": 3
   },
   "file_extension": ".py",
   "mimetype": "text/x-python",
   "name": "python",
   "nbconvert_exporter": "python",
   "pygments_lexer": "ipython3",
   "version": "3.8.8"
  }
 },
 "nbformat": 4,
 "nbformat_minor": 5
}
